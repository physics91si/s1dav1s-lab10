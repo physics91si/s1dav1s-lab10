{
 "cells": [
  {
   "cell_type": "markdown",
   "metadata": {},
   "source": [
    "# Lab 10"
   ]
  },
  {
   "cell_type": "markdown",
   "metadata": {},
   "source": [
    "## Part 1: Write a Set Class"
   ]
  },
  {
   "cell_type": "code",
   "execution_count": 22,
   "metadata": {
    "collapsed": false
   },
   "outputs": [],
   "source": [
    "class Set():\n",
    "    def __init__(self):\n",
    "        self.listset=[]\n",
    "    def contains(self, element):\n",
    "        for i in self.listset:\n",
    "            if (i == element):\n",
    "                return True\n",
    "        return False\n",
    "    def add(self, element):\n",
    "        if (self.contains(element)==False):\n",
    "            self.listset.append(element)\n",
    "    def remove(self, element):\n",
    "        if (self.contains(element)):\n",
    "            self.listset.remove(element)\n",
    "    def size(self):\n",
    "        return self.listset.__len__()\n",
    "    def __union__ (self, setB):\n",
    "        union=self.listset\n",
    "        for element in setB:\n",
    "            if not(union.contains(element)):\n",
    "                union.append(element)\n",
    "        return union\n",
    "    def __intersection__ (self, setB):\n",
    "        intersection=self.listset\n",
    "        for element in setB:\n",
    "            if (intersection.contains(element)):\n",
    "                intersection.append(element)\n",
    "        return intersection\n",
    "    def __subtract__ (self, setB):\n",
    "        subtract=[]\n",
    "        for element in self.listset:\n",
    "            if not(setB.contains(element)):\n",
    "                subtract.append(element)\n",
    "        return subtract"
   ]
  },
  {
   "cell_type": "markdown",
   "metadata": {},
   "source": [
    "## Part 2: Testing"
   ]
  },
  {
   "cell_type": "code",
   "execution_count": 23,
   "metadata": {
    "collapsed": false
   },
   "outputs": [
    {
     "name": "stdout",
     "output_type": "stream",
     "text": [
      "<__main__.Set instance at 0x10376f7e8>\n",
      "3\n"
     ]
    }
   ],
   "source": [
    "setA=Set()\n",
    "setA.add(5)\n",
    "setA.add(4)\n",
    "setA.add(3)\n",
    "print setA\n",
    "print (setA.size())"
   ]
  },
  {
   "cell_type": "code",
   "execution_count": 10,
   "metadata": {
    "collapsed": false
   },
   "outputs": [
    {
     "data": {
      "text/plain": [
       "set"
      ]
     },
     "execution_count": 10,
     "metadata": {},
     "output_type": "execute_result"
    }
   ],
   "source": [
    "type (setA)"
   ]
  },
  {
   "cell_type": "code",
   "execution_count": null,
   "metadata": {
    "collapsed": true
   },
   "outputs": [],
   "source": []
  }
 ],
 "metadata": {
  "kernelspec": {
   "display_name": "Python 2",
   "language": "python",
   "name": "python2"
  },
  "language_info": {
   "codemirror_mode": {
    "name": "ipython",
    "version": 2
   },
   "file_extension": ".py",
   "mimetype": "text/x-python",
   "name": "python",
   "nbconvert_exporter": "python",
   "pygments_lexer": "ipython2",
   "version": "2.7.11"
  }
 },
 "nbformat": 4,
 "nbformat_minor": 0
}
